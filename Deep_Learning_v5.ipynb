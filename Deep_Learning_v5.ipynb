{
  "nbformat": 4,
  "nbformat_minor": 0,
  "metadata": {
    "colab": {
      "name": "Deep_Learning_v5.ipynb",
      "provenance": [],
      "collapsed_sections": [],
      "toc_visible": true
    },
    "kernelspec": {
      "name": "python3",
      "display_name": "Python 3"
    },
    "language_info": {
      "name": "python"
    }
  },
  "cells": [
    {
      "cell_type": "markdown",
      "metadata": {
        "id": "ur_KAQ5yrdl7"
      },
      "source": [
        "# Introduction to Deep Learning"
      ]
    },
    {
      "cell_type": "code",
      "metadata": {
        "id": "VZdUHbMpLNO5"
      },
      "source": [
        "# Import Libraries\n",
        "# Utility libraries\n",
        "import numpy as np # Math & array handling\n",
        "import pathlib # Pathing for directories & other files\n",
        "\n",
        "# Data handling/Preprocessing libraries\n",
        "import pandas as pd\n",
        "from sklearn.model_selection import train_test_split #preprocessing\n",
        "from PIL import Image # For viewing mnist images\n",
        "\n",
        "# Neural Network libraries\n",
        "import tensorflow as tf\n",
        "from tensorflow import keras\n",
        "from tensorflow.keras import layers\n",
        "\n",
        "# Plotting libraries\n",
        "import matplotlib.pyplot as plt #For basic plotting\n",
        "from plotnine import * #ggplot analogue"
      ],
      "execution_count": 1,
      "outputs": []
    },
    {
      "cell_type": "code",
      "metadata": {
        "id": "S2ChY7oHTmDR"
      },
      "source": [
        "# Clone in files from github\n",
        "!git clone --quiet https://github.com/modern-data-mining/Lecture-Neural-Network.git"
      ],
      "execution_count": 2,
      "outputs": []
    },
    {
      "cell_type": "markdown",
      "metadata": {
        "id": "qls7GjDITp_5"
      },
      "source": [
        "# Objective\n",
        "\n",
        "This lecture provides an introduction to Neural Networks and Convolutional Neural Networks. We will see how neural networks borrow ideas from cognitive science and models the behavior of neurons so as to mimic the perception process of human beings. On a high level, Neural Network is a \"parametric\" model with huge number of unknown parameters. It is easy to understand the entire set up with knowledge of regressions. Thanks to the CS people who have been developing efficient, fast computation algorithms we are able to estimate millions of unknown parameters within no time. \n",
        "\n",
        "Though the neural network model is easy for us to understand, there are a set of new terminologies introduced. Based on the neural network model, we will set up the architecture (model specification) with input layer, hidden layers and output layer and apply the package to several case studies. A well known case study MNIST will be carried out here through the basic NN. \n",
        "\n",
        "Since the most successful application of deep learning (Neural Network with more layers) is image recognition and Language processing among others, we will also explore the image-specialized Convolutional Neural Network (CNN) and see how it performs compared to the regular neural network on MNIST. The core of CNN is the convolutional layer and the pooling layer. \n",
        "\n",
        "While keeping this lecture compact with core ideas about NN we have left many details out.  If you are interested to learn more, you can refer to this wonderful [Neural Networks course](http://cs231n.github.io). We will use some graphic illustrations from there. Also a well organized website with data mining elements including Neural Networks can be found \n",
        "[HERE](http://ufldl.stanford.edu/tutorial/supervised/MultiLayerNeuralNetworks/).\n",
        "\n",
        "**Acknowledgment**: This lecture is built gradually and expanded to the current real implementable shape. Several former TAs have been contributing to the success of current version. It is impossible without their help. Junhui Cai (current Ph.D student in the stat dept), John Brooke Waldt (former MS student in CS department) and Ryan Galea (former MBA student), I thank them!"
      ]
    },
    {
      "cell_type": "markdown",
      "metadata": {
        "id": "yCNpOEHPTzZv"
      },
      "source": [
        "# Introduction\n",
        "\n",
        "Table of Contents\n",
        "\n",
        "\n",
        "1. Installation\n",
        "    + Python\n",
        "    + Tensor Flow\n",
        "    + Keras \n",
        "2. Neural Network\n",
        "    + Modelling: Non-linear, large number of parameters\n",
        "    + Architecture: \n",
        "        - Input layer, Hidden layer, Output layer\n",
        "        - Neuron, Activation functions\n",
        "        - Weights (coefficients)\n",
        "    + Loss functions:\n",
        "        - N-entropy (same as -loglikelihood for categorical output)\n",
        "        - Sum of Squared errors (continuous output)\n",
        "    + Minimization:\n",
        "        - Stochastic Gradient Decent (SGD) (Details in Appendix)\n",
        "        - Back-propagation (Chain rule)\n",
        "3. Two cases:\n",
        "    + Binary Classification: Yelp Review \n",
        "    + Multiclass Classification: MNIST Digit Recognition\n",
        "        - Image processing\n",
        "        - Classification with 10 classes\n",
        "        \n",
        "4. Convolutional Neural Network (CNN) (Put in a seperate lecture)\n",
        "    + Architecture: Convolutional layer, Pooling layer\n",
        "    + CNN with MNIST (Black/White)\n",
        "    + CNN with CIFAR10 (Colored Images with 10 classes)\n",
        "\n",
        "5. Data needed:\n",
        "    + `YELP_tm_freq.csv` \n",
        "    + `MNIST` available with `keras`\n",
        "    + A few images needed\n",
        "\n",
        "\n",
        "Appendix\n",
        "\n",
        "  + Gradient Descent\n",
        "  + MNIST with RF\n",
        "\n",
        "Note: \n",
        "\n",
        "  + K layers recommended if K classes.\n",
        "  + For regression\n",
        "      - the last layer: layer_dense(units = 1)\n",
        "      - model %>% compile(optimizer = \"rmsprop\", loss = \"mse\",  metrics = c(\"mae\") mean absolute error (MAE)\n",
        "          \n",
        "  + Can take k-fold cv to build a model\n"
      ]
    },
    {
      "cell_type": "markdown",
      "metadata": {
        "id": "5Sw2C36AUphA"
      },
      "source": [
        "## Python and Keras\n",
        "\n",
        "*Python* is another commonly-used programming language, especially in machine learning community. A lot of popular libraries, including Tensor flow and Keras that we will use in this lecture, are developed in Python. \n",
        "\n",
        "Google Colab is a convenient, popular, and free development environment that allows you to write and execute Python from your browser. We won't use them in this lecture, but to develop more computationally intensive models, Colab also provides access to GPUs and TPUs built into its interface. \n",
        "\n",
        "*TensorFlow* is a machine learning library developed by Google. *Keras* is a high-level Application Programming Interface (API) for TensorFlow to build and train deep learning models. It runs on top of TensorFlow and is used for fast prototyping, advanced research, and production. \n",
        "\n",
        "### Keras for R\n",
        "\n",
        "While not covered in this lecture, it is also possible to develop neural networks in R. We have included information on this in the Appendix."
      ]
    },
    {
      "cell_type": "markdown",
      "metadata": {
        "id": "bPBXRq5NUuDI"
      },
      "source": [
        "# Neural Network\n",
        "\n",
        "We have discussed various machine learning methods in previous lectures. *Deep learning* is another one of these approaches. From data, it attempts to learn successive layers of increasing meaningful representation.\n",
        "\n",
        "Let's consider a classification problem. For each sample $(X_i, Y_i)$ where $i = 1, \\ldots, n$, we have \n",
        "\n",
        "* $\\mathbf X_i = (X_{i1}, \\ldots, X_{ip})$ is a $p$-dimensional input features\n",
        "* $\\mathbf Y_i = (Y_{i1}, \\ldots, Y_{iK})$ is a $K$-dimensional class indicator\n",
        "    + for continuous response, $K=1$\n",
        "    + for $K$-class classification, $Y_{ij} = 1$ if it is of class $j$ where $j = 1, \\ldots, K$\n",
        "\n",
        "Given the features/predictors, we would like to build a probability model for y (categorical). We then can predict y accordingly. Or build a predictive equation for a continuous response y. "
      ]
    },
    {
      "cell_type": "markdown",
      "metadata": {
        "id": "36iTHjx_U6FX"
      },
      "source": [
        "## Prelude: logistic regression\n",
        "\n",
        "Logistic regression is the most popular model to model the relationship between probability of one level of y vs. all the predictors.  For example, we have 3 covariates $(x_1, x_2, x_3)$ and a label $y \\in \\{0,1\\}$. We model probability of $P(y=1|x_1, x_2, x_3)$ through a linear logit link function: \n",
        "\n",
        "$logit(Prob(Y=1 | X_1, X_2, X_3)) = \\beta_0 + \\beta_1 X_1 +  \\beta_2 X_2 +  \\beta_3 X_3  $\n",
        "\n",
        "Or equivalently this is same to model \n",
        "$Prob(Y=1 | X_1, X_2, X_3) = \\frac{e^{\\beta_0 + \\beta_1 X_1 +  \\beta_2 X_2 +  \\beta_3 X_3}}\n",
        "{1+ e^{\\beta_0 + \\beta_1 X_1 +  \\beta_2 X_2 +  \\beta_3 X_3}}$"
      ]
    },
    {
      "cell_type": "markdown",
      "metadata": {
        "id": "uZDFwjRfmaN5"
      },
      "source": [
        "Let us rephrase the model process in the following neural network with only an input layer and an output layer.\n",
        "\n",
        "* **Input layer** consists of 3 input units (3 features): $x_1, x_2, x_3$\n",
        "* **Output layer**: contains $s_1, s_2$:\n",
        "  $s_1 = b_{1}^{(1)} + W_{11}^{(1)}x_1 + W_{12}^{(1)}x_2 + W_{13}^{(1)}x_3$  \n",
        "    $s_2 = b_{2}^{(1)} + W_{21}^{(1)}x_1 + W_{22}^{(1)}x_2 + W_{23}^{(1)}x_3$  \n",
        "* **Softmax**: models:  \n",
        "$Prob(Y=1|x_1, x_2, x_3) = \\frac{e^{s_1}}{e^{s_1}+e^{s_2}}$  \n",
        "$Prob(Y=0|x_1, x_2, x_3) = \\frac{e^{s_2}}{e^{s_1}+e^{s_2}}$  \n",
        "   \n",
        "The following figure illustrates the model above.\n",
        "\n",
        "<img src='https://raw.githubusercontent.com/sjpl/placeholder/main/img/logit.png' width=50%>\n",
        "\n",
        "We only need to estimate the first set of unknown parameters:  \n",
        "$b_{1}^{(1)}, W_{11}^{(1)}, W_{12}^{(1)},  W_{13}^{(1)}$ since\n",
        "$P(Y=1) + P(Y=0) = 1$  "
      ]
    },
    {
      "cell_type": "markdown",
      "metadata": {
        "id": "ojm_cpL0mkxa"
      },
      "source": [
        "**The above classical logistic regression model is a simple network:**\n",
        "\n",
        "- 0 layer\n",
        "\n",
        "- softmax as output (meaning logit function)\n",
        "\n",
        "- classification is done through thresholding the probability\n",
        "\n",
        "- it is simple and we can interpret the probability model\n",
        "\n",
        "- BUT, it is restrictive for the model format. \n",
        "\n",
        "A natural way to expand the logistic regression model is to include non-linear equations for $s_1$ and $s_2$. One way to do it is by creating many intermediate composite functions sequentially, starting from the input, layer by layer to the output layer. This is called a Neural Network. "
      ]
    },
    {
      "cell_type": "markdown",
      "metadata": {
        "id": "ClyuSSWQmq9B"
      },
      "source": [
        "## Architecture\n",
        "\n",
        "We can use a diagram to describe the architecture of a neural network. A neural network consists of three major layers: an input layer, hidden layers, and an output layer. When we say $N$-layer neural network, we do not count the input layer by convention.\n",
        "\n",
        "\n",
        "As a simple example, consider the setup: we have $(x_1, x_2, x_3, y)$, where there are 3 features and one binary response. Let's start with the following neural network with **one hidden layer** where one hidden layer consists of **4 neurons**. We have 3 features for each data point and 2 classes to predict. \n",
        "\n",
        "<img src='https://raw.githubusercontent.com/modern-data-mining/Lecture-Neural-Network/main/img/nn.png?token=AE4SBUE2UAAVLAVTBGRI7DTBBKU6Y' width=50%>"
      ]
    },
    {
      "cell_type": "markdown",
      "metadata": {
        "id": "8kf2664Fm7V9"
      },
      "source": [
        "For each data point $(x,y)$, \n",
        "\n",
        "* **Input layer** consists of **3 input** units (3 features): $x_1, x_2, x_3$\n",
        "* **Hidden layer** consists of **4 neurons**. Each neuron is given by first taking a linear combination then apply an **activation** function $f_1$  \n",
        "\n",
        "    $a_1^{(1)} = f_1(b_{1}^{(1)} + W_{11}^{(1)}x_1 + W_{12}^{(1)}x_2 + W_{13}^{(1)}x_3)$\n",
        "    $a_2^{(1)} = f_1(b_{2}^{(1)} + W_{21}^{(1)}x_1 + W_{22}^{(1)}x_2 + W_{23}^{(1)}x_3)$\n",
        "    $a_3^{(1)} = f_1(b_{3}^{(1)} + W_{31}^{(1)}x_1 + W_{32}^{(1)}x_2 + W_{33}^{(1)}x_3)$\n",
        "    $a_4^{(1)} = f_1(b_{4}^{(1)} + W_{41}^{(1)}x_1 + W_{42}^{(1)}x_2 + W_{43}^{(1)}x_3)$  \n",
        "where $a_i^{(1)}$ denotes the $i$-th activated neuron in hidden layer 1.  \n",
        "* $f_1(x)$ is called an activation function. Here we take **ReLU** function:\n",
        "\\[f_1(x) = \\max (0, x) \\]\n",
        "\n",
        "* **Output layer** consists of 2 output units\n",
        "    $s_1 = b_{1}^{(2)}+W_{11}^{(2)}a_1^{(1)} + W_{12}^{(1)}a_2^{(1)} + W_{13}^{(1)}a_3^{(1)} + W_{14}^{(1)}a_4^{(1)}$  \n",
        "    $s_2 = b_{2}^{(2)}W_{21}^{(2)}a_1^{(1)} + W_{22}^{(1)}a_2^{(1)} + W_{23}^{(1)}a_3^{(1)} + W_{24}^{(1)}a_4^{(1)}$\n",
        "   \n",
        "* **Softmax**: models:\n",
        "$Prob(Y=1|x_1, x_2, x_3) = \\frac{e^{s_1}}{e^{s_1}+e^{s_2}} = \\frac{e^{b_{1}^{(2)}+W_{11}^{(2)a_1^{(1)} + W_{12}^{(1)}a_2^{(1)} + W_{13}^{(1)}a_3^{(1)} + W_{14}^{(1)}a_4^{(1)}} }}{e^{s_1}+e^{s_2}}$  \n",
        "$Prob(Y=0|x_1, x_2, x_3) = \\frac{e^{s_2}}{e^{s_1}+e^{s_2}}=\\frac{e^{ b_{2}^{(2)}W_{21}^{(2)}a_1^{(1)} + W_{22}^{(1)}a_2^{(1)} + W_{23}^{(1)}a_3^{(1)} + W_{24}^{(1)}a_4^{(1)}} }{e^{s_1}+e^{s_2}}$"
      ]
    },
    {
      "cell_type": "markdown",
      "metadata": {
        "id": "YzV78bZ2nMX0"
      },
      "source": [
        "* **Unknown parameters:** All weights $W^{(1)}$'s, $b^{(1)}$'s and  $W^{(2)}$'s, $b^{(2)}$' are unknown parameters.\n",
        "\n",
        " To write in a compact way, we have the following unknown: the hidden layer $W^{(1)}$ is a matrix of $3\\times 4$, $b^{(1)}$ is $4\\times 1$ and the output layer $W^{(2)}$ is $4\\times 1$ and $b^{(2)}$ is $1\\times 1$ with a total number of $12+4+4+1=21$ parameters. \n",
        " \n",
        "\n",
        "**This model is different from the classical logistic regression model** since we have introduced the non-linear part in the model. "
      ]
    },
    {
      "cell_type": "markdown",
      "metadata": {
        "id": "y3zRl4iwnNjZ"
      },
      "source": [
        "Summarize a general neural network or architecture:\n",
        "\n",
        "* **Input layer**: holds the input training data\n",
        "\n",
        "* **Hidden layer** (Fully-connected layer): computes the neurons according to a weight matrix $W$. We need to specify the number of hidden layers, the number of neurons in each hidden layer and the activation function.\n",
        "\n",
        "  + **Number of hidden layers (depth)** basically controls how deep we want the network to be. The more hidden layers the more complex our model is and hence the so called **deep learning**.\n",
        "  + **Number of neurons** controls how many neurons we want for each hidden layer.\n",
        "  + **Activation function**. As mentioned, ReLU is a commonly-used activation function and Softmax is usually used for the last hidden layer to output class scores to output layer.\n",
        "  + **Weight matrix** is a matrix of unknown coefficients. Each column is the $W$'s above for each neuron. Note that for a hidden layer with $q$ neurons, if we have a $p$-dimensional input, the weight matrix for this hidden layer will be $(p+1) \\times q$ where the additional $1$ corresponds to the bias term or the `intercept` term. \n",
        "\n",
        "* **Output layer**: contains the class scores for classification. The dimension is usually the same as the number of classes. \n",
        "\n",
        "Neural network described above is flexible to handle\n",
        "\n",
        "* **y can have K many levels**: we only need to output $s_1, s_2,...s_K$ one for each outcome.\n",
        "\n",
        "* **y can be continuous**: output  one $s_1$."
      ]
    },
    {
      "cell_type": "markdown",
      "metadata": {
        "id": "IHwnGhP6nQqb"
      },
      "source": [
        "### Activation functions  \n",
        "\n",
        "Commonly used activation function can be any of the following non-linear functions:   \n",
        "\n",
        "- Rectified Linear Unit (ReLU, pronounce as REL-loo) - Quicker to train!!   \n",
        "    $$f=max(0, x)$$\n",
        "\n",
        "- Logit/Sigmoid:    \n",
        "    $$f = \\frac{1}{1+e^{-x}}$$\n",
        "    \n",
        "- Hyperbolic Tangent: - Similar to logit\n",
        "    $$f=\\tanh(x)$$\n",
        "\n",
        "The most commonly used activation function is **ReLU** because it converges faster with simple implement (by thresholding). The **leaky ReLU**, $f=max(\\epsilon x, x)$, is also used in very deep network.\n",
        "\n",
        "The following figures show the shape of activation functions"
      ]
    },
    {
      "cell_type": "code",
      "metadata": {
        "id": "zqNbY6iTnTHE",
        "colab": {
          "base_uri": "https://localhost:8080/",
          "height": 484
        },
        "outputId": "412b2a5a-953b-4362-a36b-b833298e13bd"
      },
      "source": [
        "x = np.linspace(-5,5,num=101)\n",
        "x_len = np.size(x)\n",
        "tanh_y = np.tanh(x)\n",
        "sigmoid_y = 1/(1+np.exp(-x))\n",
        "relu_y = np.maximum(0,x)\n",
        "eps = 1e-1\n",
        "relu_leaky_y = np.maximum(eps*x,x)\n",
        "\n",
        "act_func = [\"tanh\",\"Sigmoid\",\"ReLU\",\"Leaky ReLU\"]\n",
        "act_func_order = pd.CategoricalDtype(act_func, ordered=True)\n",
        "d = {\"method\": np.repeat(act_func,x_len), \n",
        "     \"x\": np.tile(x,4), \n",
        "     \"y\": np.concatenate((tanh_y, sigmoid_y, relu_y, relu_leaky_y))}\n",
        "act_func_df = pd.DataFrame(d)\n",
        "act_func_df['method'] = act_func_df['method'].astype(act_func_order)\n",
        "act_func_df.sort_values('method')\n",
        "    \n",
        "(ggplot(act_func_df, aes(x='x', y='y'))\n",
        "+ geom_line()\n",
        "+ facet_wrap( '~ method', nrow=1)\n",
        "+ ylab(\"f(x)\"))"
      ],
      "execution_count": 40,
      "outputs": [
        {
          "output_type": "display_data",
          "data": {
            "image/png": "[encoded data removed]",
            "text/plain": [
              "<Figure size 640x480 with 4 Axes>"
            ]
          },
          "metadata": {
            "tags": []
          }
        },
        {
          "output_type": "execute_result",
          "data": {
            "text/plain": [
              "<ggplot: (8768328620605)>"
            ]
          },
          "metadata": {
            "tags": []
          },
          "execution_count": 40
        }
      ]
    },
    {
      "cell_type": "markdown",
      "metadata": {
        "id": "jTo_F205nd_7"
      },
      "source": [
        "### Connections with biological/cognitive science\n",
        "\n",
        "The basic computational unit of the brain is a neuron, as shown in the first figure below.  Each neuron receives signals (impulses) from other neurons and processes and produces output signals to other neurons. Analogously, Neural network receives the input matrix, processes the input and output the signal with an activation function $h$ in the picture or $f$ in our notation.\n",
        "\n",
        "<table><tr>\n",
        "<td><img src=\"https://raw.githubusercontent.com/sjpl/placeholder/main/img/neuron.png\" style=\"width=100%\"></td>\n",
        "<td><img src=\"https://raw.githubusercontent.com/sjpl/placeholder/main/img/neuron_model.jpg\" style=\"width=40%\"></td>\n",
        "</tr></table>\n"
      ]
    },
    {
      "cell_type": "markdown",
      "metadata": {
        "id": "LmJAA5TzpGih"
      },
      "source": [
        "## Loss functions\n",
        "\n",
        "Once a model is specified or an architecture is defined, we then need to estimate all the weights and biases (or all the unknown parameters). The standard loss for classification is the **cross entropy** which is exactly the -log likelihood function. We then minimize the **cross entropy** or maximize the log likelihood to get all the unknown parameters. \n",
        "\n",
        "* **Logistic loss classifier**\n",
        "  $$L = - \\frac{1}{n}\\sum_{i=1}^n\\sum_{j=1}^K 1 y_{ij} \\log(p_{ij})$$\n",
        "  where $p_{i,j}$ is the probability of $i$ being in class $j$.\n",
        "  \n",
        "* **Softmax classifier**: one of the most popular choices. Denote the scores in the output layer as $(s_1, \\ldots, s_K)$. Then the loss function is \n",
        "  $$L = - \\frac{1}{n}\\sum_{i=1}^n \\sum_{j=1}^K 1 y_{ij} \\log\\Bigg(\\frac{e^{s_{y_{ij}}}}{\\sum_j e^{s_{ij}} } \\Bigg)$$\n",
        "\n",
        "**Remark**: For the softmax we take:\n",
        "* $$p_j=Prob(Y=j|x_1, ... x_p) = \\frac{e^ {s_j}}{\\sum_{j=1}^{j=K} {e^ {s_j}}}$$\n",
        "  Here K is number of classes. \n",
        "\n",
        "* The second sum for each subject $i$ there is only one $y_{i, j} \\neq 0$."
      ]
    },
    {
      "cell_type": "markdown",
      "metadata": {
        "id": "urHKsswkpKfY"
      },
      "source": [
        "## Regularization\n",
        "\n",
        "As we have seen, the number of parameters grows fast as we specify more hidden layers. Over-parameterization can lead to overfitting. There are two major ways to regularize the model.\n",
        "\n",
        "* $L_1$ or $L_2$ penalty term to shrink parameters\n",
        "    + Just like Ridge or Lasso\n",
        "    + Do not need to do Feature Selection before hand\n",
        "* Dropout \n",
        "    + The most popular way\n",
        "    + Randomly (temporarily) remove a fraction of the neurons (with replacement). The figure is taken from the [Dropout paper](http://www.cs.toronto.edu/~rsalakhu/papers/srivastava14a.pdf) by Srivastava et. al.\n",
        "\n",
        "<img src=\"https://raw.githubusercontent.com/sjpl/placeholder/main/img/dropout.jpg\">"
      ]
    },
    {
      "cell_type": "markdown",
      "metadata": {
        "id": "osjyGQhIpXHy"
      },
      "source": [
        "## Fitting models\n",
        "\n",
        "To fit the model, we will find the minimizers of all the coefficients like we did in glm. Here the number of parameters are huge. So fast, efficient algorithms are needed. This is where tensor flow gets in. **gradient descent** combined with the trick of **back-propagation** did it.  (You may skip the remaining paragraphs which are rather technical about the minimization problems.)\n",
        "\n",
        "In this course, we barely mention how packages actually solve the optimization problems. Optimization is a very general yet crucial field and has been developing for years. Neural networks and deep learning could not have been so popular without recent development in optimization (and of course computation power). Refer to an excellent [convex optimization course](http://www.stat.cmu.edu/~ryantibs/convexopt/) if you are interested. \n",
        "\n",
        "The most important optimization techniques for neural networks and deep learning are **gradient descent** and **back-propagation**. These are NOT new ideas as neural networks! Gradient descent was invented by Cauchy in 1847 and back-propagation was popularized by [Rumelhart, Hinton (one of three Turning Award 2018 laureates) and Williams](http://www.cs.toronto.edu/~hinton/absps/naturebp.pdf) (17k citations!) in 1986 (Back-propagation was derived by multiple researches in early 60's). "
      ]
    },
    {
      "cell_type": "markdown",
      "metadata": {
        "id": "9_g6PUBlpX7B"
      },
      "source": [
        "**Gradient descent** is an algorithm to find the maximizer/minimizer (using the first-order information, i.e. gradient). There are lots of developments in recent years to accelerate (e.g. stochastic gradient descent (SGD), Momentum, adaptive gradient descent (Adagrad), RMSprop). For neural networks, it is worth mentioning that since the loss function is generally not convex, gradient descent does not guarantee global convergence and is often trapped in saddle points. Research in escaping the saddle point and, in general, non-convex optimization is very active.\n",
        "\n",
        "There exists other algorithm for example the Newton's method that uses the second-order information, i.e. Hessian. The second-order methods enjoy a faster convergence rate. In reality, however, computing the Hessian for millions of parameters is very expensive. Hence it it not common to apply second-order methods to large-scale deep learning."
      ]
    },
    {
      "cell_type": "markdown",
      "metadata": {
        "id": "q6XW6PFvpZ1S"
      },
      "source": [
        "**Back-propagation** is a technique to calculate the gradients for gradient descent. It is a simple yet power idea using chain rule. Each iteration needs to update millions of parameters using gradient descent and thus needs to compute millions of gradients. Back-propagation starts from the last layer and computes the gradients for parameters of the last layer, and then backprops (passes the gradients) to the previous layer to compute the gradients for parameters of the second last layer and so on. Backpropagation then allows us to efficiently compute the gradients and then update the parameters. \n",
        "\n",
        "**A detailed explanation about GD/SGD is provided in the Appendix!!**\n",
        "\n",
        "We are now ready to use Keras to implement neural networks with real case studies. "
      ]
    },
    {
      "cell_type": "markdown",
      "metadata": {
        "id": "68gPZL9EpcFY"
      },
      "source": [
        "# Case 1: Yelp Textmining NN\n",
        "\n",
        "How well can we predict ratings from a review? The Yelp data available to us here is 100000 previous reviews together with ratings. Use bag of words, each review is already processed in the term frequency format. There are  $p=1072$ words retained. The response variable is a binary `rating`, 1 being a good review and 0 being a bad review. \n",
        "\n",
        "In this section we will implement a Neural Network model with two layers and varying number of neutrons. Package `keras` is used. "
      ]
    },
    {
      "cell_type": "markdown",
      "metadata": {
        "id": "Gd2F2UtupdyQ"
      },
      "source": [
        "## Data Preparation\n",
        "\n",
        "**Read the data**:  `YELP_tm_freq.csv` contains processed Yelp data. It contains the response `ratings`and reviews. In `yelpdata2`: the first variable is the response `rating` and the remaining variables are words or input of $x_1, \\ldots, x_{1072}$."
      ]
    },
    {
      "cell_type": "code",
      "metadata": {
        "id": "uqW4MGsiLAmJ"
      },
      "source": [
        "# Unzip dataset from github download\n",
        "zip_path = \"/content/Lecture-Neural-Network/data/YELP_tm_freq.zip\"\n",
        "!unzip -q {zip_path}"
      ],
      "execution_count": 4,
      "outputs": []
    },
    {
      "cell_type": "code",
      "metadata": {
        "id": "cGQ-mGcqMyp-"
      },
      "source": [
        "data_path = \"/content/YELP_tm_freq.csv\"\n",
        "yelpdata = pd.read_csv(data_path)"
      ],
      "execution_count": 5,
      "outputs": []
    },
    {
      "cell_type": "code",
      "metadata": {
        "colab": {
          "base_uri": "https://localhost:8080/"
        },
        "id": "wpC2S8JTY5vU",
        "outputId": "7e08b6d5-fb01-47e7-80ae-6a0e86214c4b"
      },
      "source": [
        "yelpdata.head() # notice that user_id, stars and date are in the dataset\n",
        "yelpdata.shape\n",
        "yelpdata.ndim\n",
        "yelpdata.columns[0:5] #Note, Python uses zero-based array indexing\n",
        "\n",
        "yelpdata2 = yelpdata.iloc[:,3:] # Remove extra cols. First col will be the rating.\n",
        "yelpdata2.head()\n",
        "yelpdata2.dtypes"
      ],
      "execution_count": 6,
      "outputs": [
        {
          "output_type": "execute_result",
          "data": {
            "text/plain": [
              "rating      int64\n",
              "abl         int64\n",
              "absolut     int64\n",
              "accept      int64\n",
              "accommod    int64\n",
              "            ...  \n",
              "you         int64\n",
              "young       int64\n",
              "your        int64\n",
              "yum         int64\n",
              "yummi       int64\n",
              "Length: 1073, dtype: object"
            ]
          },
          "metadata": {
            "tags": []
          },
          "execution_count": 6
        }
      ]
    },
    {
      "cell_type": "markdown",
      "metadata": {
        "id": "fn5Giecbpkjk"
      },
      "source": [
        "**Data preparation for NN**:\n",
        "\n",
        "  + We need to split data into two sets: training data and validation\n",
        "  + Training data will be split internally to tune any parameters\n",
        "  + We reserve the validation data set to give an honest evaluation for the testing error. That is the only time it will be used.\n",
        "  + All the data **needs** to be either matrices or vectors.\n",
        "\n",
        "**Training data: `x_train`/`y_train`**: Use 90,000 as the training data. Internally we need to split this training data again to tune the parameters. Keras refer the split internal datasets as training/validation. (We call this pair our training/testing datasets.)\n",
        "\n",
        "**Validation data: `x_val` / `y_val`**: reserve 10,000 from the total dataset."
      ]
    },
    {
      "cell_type": "code",
      "metadata": {
        "id": "jcwLGpd8IFiT"
      },
      "source": [
        "# Split into input & y (the label)\n",
        "yelp_rating = yelpdata2.iloc[:,0] # Labels\n",
        "yelp_words = yelpdata2.iloc[:,1:] # Inputs\n",
        "\n",
        "# Convert to a matrix for keras compatibility\n",
        "yelp_rating = np.array(yelp_rating)\n",
        "yelp_words = np.array(yelp_words)\n",
        "\n",
        "# test_size = 0.10 to reserve 10,000 for validation\n",
        "# use random_state=1 for reproducibility\n",
        "x_train, x_val, y_train, y_val = train_test_split(\n",
        "    yelp_words, yelp_rating, test_size=0.10, shuffle=True, random_state=1)\n",
        "# np.shape(x_train)\n",
        "\n",
        "# keras further splits x_train and y_train internally into 'training' and 'testing' datasets"
      ],
      "execution_count": 7,
      "outputs": []
    },
    {
      "cell_type": "markdown",
      "metadata": {
        "id": "L3TblPWYp2MB"
      },
      "source": [
        "### Fully Connected Neural Network\n",
        "\n",
        "Now the data is prepared, let's begin working with our full dataset using the `keras` package. The first step is to define our model. By defining, we mean specifying the number and type of layers to include in our model and what will happen to our data in each layer. For our purposes `keras_model_sequential()` is the function to run when defining our model. \n",
        "\n",
        "To add a fully connected or dense layer we use the command `layer_dense()`.\n",
        "\n",
        "When building the layer, the shape of the input needs to be specified. This refers to the length of each input vector, which in our case is 1072 (the 1072 possible words in our frequency dictionary).\n",
        "\n",
        "We also need to specify how many hidden units our layer will contain (these are represented by the nodes or neurons in the earlier graphic). Having more hidden units (a higher-dimensional representation space) allows your network to learn more-complex representations, but it makes the network more computationally expensive and may lead to learning unwanted patterns. Here we use 16 neurons in the first layer and 8 neurons in the second layer. \n",
        "\n",
        "Finally, we need to specify the activation function. Here we use the *rectified linear unit* or ReLU function mentioned earlier. This has the effect of zeroing out negative values (equivalent to $\\max(0, X)$).\n",
        "\n",
        "The final layer of the model specifies our output. As this is a classification problem we want to find $P(Y=1)$. To set our output as a probability we specify the activation to be the \"sigmoid\" function (which as you recall is just the logistic function for which we are familiar.)\n",
        "\n",
        "**Define the Model/Architecture:**\n",
        "  + two layers with 16 and 8 neurons in each layer\n",
        "  + Activation function is `Relu`\n",
        "  + Output layer is `Sigmoid`"
      ]
    },
    {
      "cell_type": "code",
      "metadata": {
        "colab": {
          "base_uri": "https://localhost:8080/"
        },
        "id": "s_TBxbPuSv9u",
        "outputId": "44e74b8b-db1a-44c7-9af0-24a1494bf06f"
      },
      "source": [
        "# Model Architecture Definition\n",
        "tf.random.set_seed(10) # Set seed for reproduceability\n",
        "p = x_train.shape[1]\n",
        "\n",
        "model = keras.Sequential(\n",
        "    [\n",
        "     layers.Dense(units = 16, activation=\"relu\", input_shape=(p,), name=\"layer1\"),\n",
        "     layers.Dense(units = 8, activation=\"relu\", name=\"layer2\"),\n",
        "     layers.Dense(units = 2, activation=\"softmax\", name=\"layer3\")\n",
        "    ]\n",
        ")\n",
        "y = model(x_train) # This must be initialized before running model.summary()\n",
        "model.summary()"
      ],
      "execution_count": 9,
      "outputs": [
        {
          "output_type": "stream",
          "text": [
            "Model: \"sequential_1\"\n",
            "_________________________________________________________________\n",
            "Layer (type)                 Output Shape              Param #   \n",
            "=================================================================\n",
            "layer1 (Dense)               (None, 16)                17168     \n",
            "_________________________________________________________________\n",
            "layer2 (Dense)               (None, 8)                 136       \n",
            "_________________________________________________________________\n",
            "layer3 (Dense)               (None, 2)                 18        \n",
            "=================================================================\n",
            "Total params: 17,322\n",
            "Trainable params: 17,322\n",
            "Non-trainable params: 0\n",
            "_________________________________________________________________\n"
          ],
          "name": "stdout"
        }
      ]
    },
    {
      "cell_type": "markdown",
      "metadata": {
        "id": "ec7Q7zCcp5lm"
      },
      "source": [
        "As we can see in the table above our model has a total of **17322** parameters:    \n",
        "\n",
        "  + The input to the model are yelp reviews that are each coded as 1072 length sequences of frequencies. \n",
        "  + Our model's first layer is 16 nodes that are fully connected    \n",
        "  + At each node a different set of weights $W's$ will be applied to each value of the 1072 word sequence (i.e. each node will have 1072 weights and the network will have (1072 +1) * 16 = 17168 weights total) to compute the weighted sum to which a bias will be added and then the activation function will be applied.  \n",
        "  + These values will then flow to our second layer with (16+1)*8=136 where weights will be applied to each value (16 weights total) and the weighted sum computed, the bias value will then be added and the activation function will then be applied \n",
        "  + The final layer which is output will have (8+1)*2=18 parameters\n",
        "  + Combined our model with two layers and one final output, there are a total of 17168+136+18=17322 parameters across the model or architecture.   \n",
        "\n",
        "Next we need to compile our model. This step refers to specifying the optimizer logarithm we want to use (we will always use 'rmsprop'), the loss function (since this is a binary classification problem we use 'binary_crossentropy')  and the metric used to evaluate the performance. (here we use accuracy which is the fraction of reviews that are correctly classified).\n",
        "\n",
        "**Compile the Model**"
      ]
    },
    {
      "cell_type": "code",
      "metadata": {
        "id": "KXLD6A2gULyu"
      },
      "source": [
        "model.compile(\n",
        "    optimizer = \"rmsprop\",\n",
        "    loss = \"sparse_categorical_crossentropy\",\n",
        "    metrics = [\"accuracy\"]\n",
        ")"
      ],
      "execution_count": 12,
      "outputs": []
    },
    {
      "cell_type": "markdown",
      "metadata": {
        "id": "vD_Asykzp8u9"
      },
      "source": [
        "Before we fit our model, let us explain internally how the model is trained. The data will be split to\n",
        "\n",
        "- training data\n",
        "- validation data (we call this testing data in our class)\n",
        "\n",
        "For example we may want to use 85% of the data as an internal training data and the remaining data as a validation data by specifying `validation_split = 0.15`. The training data will be used to get all the parameters and the loss and accuracy will be evaluated by the internal validation data.\n",
        "\n",
        "\n",
        "We can now fit our model. The batch size refers to the number of samples per batch. This is part of the trick used to update the gradients with a batch number of reviews. The epoch refers to the number of iterations over the training data. Each epoch we cycle through all the data points one batch at a time. For testing purposes we use 20 epochs. "
      ]
    },
    {
      "cell_type": "markdown",
      "metadata": {
        "id": "7lCY-_m3p9eV"
      },
      "source": [
        "**Note that compile() and fit() modify the model object in place, unlike most R functions.** So after we compiled and fitted `model`, `model` has already changed. If we fit again on a fitted model, it will not retrain the model again. The output of the `fit()` function is history accuracy and loss of training process. So the `fit1` in the following chunk will store the training history but NOT the `model` object."
      ]
    },
    {
      "cell_type": "code",
      "metadata": {
        "colab": {
          "base_uri": "https://localhost:8080/"
        },
        "id": "RK8_z4X8sQqt",
        "outputId": "00592158-8759-469d-d9a3-f378f0d85019"
      },
      "source": [
        "fit1 = model.fit(\n",
        "    x=x_train,\n",
        "    y=y_train,\n",
        "    epochs=20,\n",
        "    batch_size=512,\n",
        "    validation_split = 0.15\n",
        ")"
      ],
      "execution_count": 13,
      "outputs": [
        {
          "output_type": "stream",
          "text": [
            "Epoch 1/20\n",
            "150/150 [==============================] - 2s 8ms/step - loss: 0.4960 - accuracy: 0.7651 - val_loss: 0.4518 - val_accuracy: 0.7964\n",
            "Epoch 2/20\n",
            "150/150 [==============================] - 1s 7ms/step - loss: 0.4255 - accuracy: 0.8115 - val_loss: 0.4445 - val_accuracy: 0.8013\n",
            "Epoch 3/20\n",
            "150/150 [==============================] - 1s 8ms/step - loss: 0.4115 - accuracy: 0.8155 - val_loss: 0.4347 - val_accuracy: 0.8034\n",
            "Epoch 4/20\n",
            "150/150 [==============================] - 1s 8ms/step - loss: 0.4033 - accuracy: 0.8173 - val_loss: 0.4305 - val_accuracy: 0.8007\n",
            "Epoch 5/20\n",
            "150/150 [==============================] - 1s 8ms/step - loss: 0.3973 - accuracy: 0.8198 - val_loss: 0.4336 - val_accuracy: 0.8012\n",
            "Epoch 6/20\n",
            "150/150 [==============================] - 1s 7ms/step - loss: 0.3912 - accuracy: 0.8236 - val_loss: 0.4348 - val_accuracy: 0.8016\n",
            "Epoch 7/20\n",
            "150/150 [==============================] - 1s 7ms/step - loss: 0.3858 - accuracy: 0.8255 - val_loss: 0.4326 - val_accuracy: 0.8015\n",
            "Epoch 8/20\n",
            "150/150 [==============================] - 1s 8ms/step - loss: 0.3796 - accuracy: 0.8284 - val_loss: 0.4317 - val_accuracy: 0.8013\n",
            "Epoch 9/20\n",
            "150/150 [==============================] - 1s 7ms/step - loss: 0.3739 - accuracy: 0.8316 - val_loss: 0.4426 - val_accuracy: 0.7996\n",
            "Epoch 10/20\n",
            "150/150 [==============================] - 1s 7ms/step - loss: 0.3682 - accuracy: 0.8338 - val_loss: 0.4373 - val_accuracy: 0.7984\n",
            "Epoch 11/20\n",
            "150/150 [==============================] - 1s 8ms/step - loss: 0.3626 - accuracy: 0.8368 - val_loss: 0.4425 - val_accuracy: 0.7984\n",
            "Epoch 12/20\n",
            "150/150 [==============================] - 1s 8ms/step - loss: 0.3578 - accuracy: 0.8392 - val_loss: 0.4447 - val_accuracy: 0.7967\n",
            "Epoch 13/20\n",
            "150/150 [==============================] - 1s 7ms/step - loss: 0.3529 - accuracy: 0.8421 - val_loss: 0.4475 - val_accuracy: 0.7971\n",
            "Epoch 14/20\n",
            "150/150 [==============================] - 1s 7ms/step - loss: 0.3485 - accuracy: 0.8441 - val_loss: 0.4519 - val_accuracy: 0.7952\n",
            "Epoch 15/20\n",
            "150/150 [==============================] - 1s 8ms/step - loss: 0.3437 - accuracy: 0.8467 - val_loss: 0.4554 - val_accuracy: 0.7936\n",
            "Epoch 16/20\n",
            "150/150 [==============================] - 1s 8ms/step - loss: 0.3398 - accuracy: 0.8488 - val_loss: 0.4657 - val_accuracy: 0.7953\n",
            "Epoch 17/20\n",
            "150/150 [==============================] - 1s 7ms/step - loss: 0.3358 - accuracy: 0.8506 - val_loss: 0.4639 - val_accuracy: 0.7953\n",
            "Epoch 18/20\n",
            "150/150 [==============================] - 1s 8ms/step - loss: 0.3320 - accuracy: 0.8527 - val_loss: 0.4683 - val_accuracy: 0.7890\n",
            "Epoch 19/20\n",
            "150/150 [==============================] - 1s 8ms/step - loss: 0.3287 - accuracy: 0.8537 - val_loss: 0.4725 - val_accuracy: 0.7939\n",
            "Epoch 20/20\n",
            "150/150 [==============================] - 1s 7ms/step - loss: 0.3246 - accuracy: 0.8571 - val_loss: 0.4802 - val_accuracy: 0.7916\n"
          ],
          "name": "stdout"
        }
      ]
    },
    {
      "cell_type": "code",
      "metadata": {
        "colab": {
          "base_uri": "https://localhost:8080/",
          "height": 298
        },
        "id": "wiRYysCA_NWn",
        "outputId": "d5f2280f-961d-48d1-e612-07c052ccce4c"
      },
      "source": [
        "# Show loss and accuracy over epoch\n",
        "fig, (ax1, ax2) = plt.subplots(2,1)\n",
        "ax1.plot(fit1.history['loss'])\n",
        "ax1.plot(fit1.history['val_loss'])\n",
        "ax1.set_xlabel('Epoch')\n",
        "ax1.set_ylabel('loss')\n",
        "\n",
        "ax2.plot(fit1.history['accuracy'])\n",
        "ax2.plot(fit1.history['val_accuracy'])\n",
        "ax2.set_xlabel('Epoch')\n",
        "ax2.set_ylabel('accuracy')\n",
        "ax2.legend(['Training', 'Testing'], loc='lower right')"
      ],
      "execution_count": 14,
      "outputs": [
        {
          "output_type": "execute_result",
          "data": {
            "text/plain": [
              "<matplotlib.legend.Legend at 0x7f989c4afa50>"
            ]
          },
          "metadata": {
            "tags": []
          },
          "execution_count": 14
        },
        {
          "output_type": "display_data",
          "data": {
            "image/png": "[encoded data removed]",
            "text/plain": [
              "<Figure size 432x288 with 2 Axes>"
            ]
          },
          "metadata": {
            "tags": [],
            "needs_background": "light"
          }
        }
      ]
    },
    {
      "cell_type": "markdown",
      "metadata": {
        "id": "TMjlxK1FqBtZ"
      },
      "source": [
        "**All 17323 parameters**\n",
        "With our model now fit, lets take a look at the values for the 17313 parameters in our model."
      ]
    },
    {
      "cell_type": "code",
      "metadata": {
        "id": "CIZaVfpUwMSc"
      },
      "source": [
        "weights = model.get_weights()\n",
        "[len(a) for a in weights] #In R, str(weights) is more descriptive\n",
        "\n",
        "weights[0]\n",
        "plt.hist(weights[0])\n",
        "weights[1]"
      ],
      "execution_count": null,
      "outputs": []
    },
    {
      "cell_type": "markdown",
      "metadata": {
        "id": "Euw7FdjfqEWG"
      },
      "source": [
        "**Predictions:**\n",
        "Lets see if we can gain further intuition by manually using the above parameter values for prediction. Below are the predicted probabilities from the model for the first five values in our training set."
      ]
    },
    {
      "cell_type": "code",
      "metadata": {
        "colab": {
          "base_uri": "https://localhost:8080/"
        },
        "id": "oFWAMZTuxJgr",
        "outputId": "ee81f705-a5af-4193-d2c5-ecfb0cae7aa1"
      },
      "source": [
        "# Predictions\n",
        "np.round(model.predict(x_train[0:5,]),3)"
      ],
      "execution_count": 24,
      "outputs": [
        {
          "output_type": "execute_result",
          "data": {
            "text/plain": [
              "array([[0.083, 0.917],\n",
              "       [0.084, 0.916],\n",
              "       [0.869, 0.131],\n",
              "       [0.436, 0.564],\n",
              "       [0.981, 0.019]], dtype=float32)"
            ]
          },
          "metadata": {
            "tags": []
          },
          "execution_count": 24
        }
      ]
    },
    {
      "cell_type": "markdown",
      "metadata": {
        "id": "wrmYVk47qGht"
      },
      "source": [
        "Lets see if we can manually compute these probabilities for the first five reviews in our training set using the computed weights shown previously. **If you understand this chunk you have mastered  basic elements of NN.**"
      ]
    },
    {
      "cell_type": "code",
      "metadata": {
        "colab": {
          "base_uri": "https://localhost:8080/"
        },
        "id": "XYUqKk0S43eT",
        "outputId": "db262370-4603-44fa-94d5-e62d9a480b73"
      },
      "source": [
        "# Manually compute probabilities using layer weights\n",
        "n5 = 5 # number of predictions\n",
        "\n",
        "# first layer: z_1 = W_1 X + b_1; a_1 = ReLU(z_1)\n",
        "z_1 = np.dot(x_train[0:n5, ], weights[0]) # matrix shapes: [5,1072] * [1072,16] = [5,16]\n",
        "# add beta (weights[[2]]) to every row \n",
        "z_1 = z_1 + weights[1] # np.shape(z_1)\n",
        "a_1 = np.maximum(0,z_1) # np.shape(a_1)\n",
        "\n",
        "# second layer: z_2 = W_2 a_1 + b_2; a_2 = ReLU(z_2)\n",
        "z_2 = np.dot(a_1, weights[2])\n",
        "z_2 = z_2 + weights[3]\n",
        "a_2 = np.maximum(0, z_2)\n",
        "\n",
        "# output layer: softmax(W_3 a_2 + b_3)\n",
        "z_out = np.dot(a_2, weights[4])\n",
        "z_out = z_out + weights[5] # np.shape(z_out)\n",
        "softmax = lambda x: np.exp(x)/np.sum(np.exp(x)) # Define the softmax function\n",
        "prob_pred = np.apply_along_axis(softmax,1,z_out)\n",
        "\n",
        "np.round(prob_pred,3)"
      ],
      "execution_count": 25,
      "outputs": [
        {
          "output_type": "execute_result",
          "data": {
            "text/plain": [
              "array([[0.083, 0.917],\n",
              "       [0.084, 0.916],\n",
              "       [0.869, 0.131],\n",
              "       [0.436, 0.564],\n",
              "       [0.981, 0.019]])"
            ]
          },
          "metadata": {
            "tags": []
          },
          "execution_count": 25
        }
      ]
    },
    {
      "cell_type": "markdown",
      "metadata": {
        "id": "of3vrq3XqIiE"
      },
      "source": [
        "Its really that simple! The model would then continue computing the probabilities for the remainder of the reviews in our training set and then feed these numbers into our loss function. The value computed by our loss function on our training data is as follows:"
      ]
    },
    {
      "cell_type": "code",
      "metadata": {
        "colab": {
          "base_uri": "https://localhost:8080/"
        },
        "id": "rFHMx_UKWjZO",
        "outputId": "62f586b3-2ade-4b9a-c475-1cbaeda4510f"
      },
      "source": [
        "fit1.history['loss'][19] #fit1.history keeps all evaluations"
      ],
      "execution_count": 26,
      "outputs": [
        {
          "output_type": "execute_result",
          "data": {
            "text/plain": [
              "0.32458269596099854"
            ]
          },
          "metadata": {
            "tags": []
          },
          "execution_count": 26
        }
      ]
    },
    {
      "cell_type": "markdown",
      "metadata": {
        "id": "KaRpcsQ4qKwx"
      },
      "source": [
        "### Tuning Parameter Selection  \n",
        "\n",
        "From the graph below we see that by about 6 epochs our validation loss has bottomed out and we receive no further benefit from additional iterations"
      ]
    },
    {
      "cell_type": "code",
      "metadata": {
        "colab": {
          "base_uri": "https://localhost:8080/",
          "height": 296
        },
        "id": "Kdc6TJtVXTSe",
        "outputId": "34f96672-e8a7-4ce5-8ddc-f60f32565eb6"
      },
      "source": [
        "# TODO recycle plot from before, preferably\n",
        "fig, (ax1) = plt.subplots(1,1)\n",
        "ax1.plot(fit1.history['loss'])\n",
        "ax1.plot(fit1.history['val_loss'])\n",
        "ax1.set_xlabel('Epoch')\n",
        "ax1.set_ylabel('loss')\n",
        "ax1.legend(['Training', 'Testing'], loc='lower left')"
      ],
      "execution_count": 27,
      "outputs": [
        {
          "output_type": "execute_result",
          "data": {
            "text/plain": [
              "<matplotlib.legend.Legend at 0x7f989cb72110>"
            ]
          },
          "metadata": {
            "tags": []
          },
          "execution_count": 27
        },
        {
          "output_type": "display_data",
          "data": {
            "image/png": "[encoded data removed]",
            "text/plain": [
              "<Figure size 432x288 with 1 Axes>"
            ]
          },
          "metadata": {
            "tags": [],
            "needs_background": "light"
          }
        }
      ]
    },
    {
      "cell_type": "markdown",
      "metadata": {
        "id": "owpbCLzwqMtx"
      },
      "source": [
        "To avoid overfitting lets use 6 epochs in our final model. (We could also play with unit numbers and batch size to see if this has an impact). Now that we are ready to fit our final model we can use all of training data."
      ]
    },
    {
      "cell_type": "markdown",
      "metadata": {
        "id": "hsxJhERdqNc_"
      },
      "source": [
        "Here we have put all the steps together to get the final NN predictive equation\n",
        "* Training data: x_train, y_train\n",
        "* Validation data: x_val, y_val\n",
        "* NN model:\n",
        "  + two layers with 16 and 8 neurons in each layer\n",
        "  + Activation function is `Relu`\n",
        "  + Output layer is `Sigmoid`\n",
        "* Epoch is 6"
      ]
    },
    {
      "cell_type": "code",
      "metadata": {
        "colab": {
          "base_uri": "https://localhost:8080/"
        },
        "id": "5S25ytRAXlJ9",
        "outputId": "7562627d-e5f5-4cbd-9364-f94a96dc4b0c"
      },
      "source": [
        "# Model Architecture Definition\n",
        "tf.random.set_seed(10) # Set seed for reproduceability\n",
        "\n",
        "p = x_train.shape[1] #Note, Python uses index 0\n",
        "\n",
        "model = keras.Sequential(\n",
        "    [\n",
        "     layers.Dense(units = 16, activation=\"relu\", input_shape=(p,), name=\"layer1\"),\n",
        "     layers.Dense(units = 8, activation=\"relu\", name=\"layer2\"),\n",
        "     layers.Dense(units = 2, activation=\"softmax\", name=\"layer3\")\n",
        "    ]\n",
        ")\n",
        "\n",
        "y = model(x_train) # Initialize the model\n",
        "\n",
        "model.compile(\n",
        "    optimizer = \"rmsprop\",\n",
        "    loss = \"sparse_categorical_crossentropy\",\n",
        "    metrics = [\"accuracy\"]\n",
        ")\n",
        "\n",
        "# Fit the model\n",
        "fit2 = model.fit(\n",
        "    x=x_train,\n",
        "    y=y_train,\n",
        "    epochs=6, # we reduce the number of epochs here\n",
        "    batch_size=512,\n",
        "    validation_split = 0.15\n",
        ")"
      ],
      "execution_count": 28,
      "outputs": [
        {
          "output_type": "stream",
          "text": [
            "Epoch 1/6\n",
            "150/150 [==============================] - 2s 9ms/step - loss: 0.4960 - accuracy: 0.7651 - val_loss: 0.4518 - val_accuracy: 0.7964\n",
            "Epoch 2/6\n",
            "150/150 [==============================] - 1s 8ms/step - loss: 0.4255 - accuracy: 0.8115 - val_loss: 0.4445 - val_accuracy: 0.8013\n",
            "Epoch 3/6\n",
            "150/150 [==============================] - 1s 8ms/step - loss: 0.4115 - accuracy: 0.8155 - val_loss: 0.4347 - val_accuracy: 0.8034\n",
            "Epoch 4/6\n",
            "150/150 [==============================] - 1s 8ms/step - loss: 0.4033 - accuracy: 0.8173 - val_loss: 0.4305 - val_accuracy: 0.8007\n",
            "Epoch 5/6\n",
            "150/150 [==============================] - 1s 8ms/step - loss: 0.3973 - accuracy: 0.8198 - val_loss: 0.4336 - val_accuracy: 0.8012\n",
            "Epoch 6/6\n",
            "150/150 [==============================] - 1s 8ms/step - loss: 0.3912 - accuracy: 0.8236 - val_loss: 0.4348 - val_accuracy: 0.8016\n"
          ],
          "name": "stdout"
        }
      ]
    },
    {
      "cell_type": "markdown",
      "metadata": {
        "id": "8MvgdruKqT1M"
      },
      "source": [
        "### Assessing Performance  \n",
        "\n",
        "We can use the evaluate function to assess our performance on the validation data to report a final performance of the model built. "
      ]
    },
    {
      "cell_type": "code",
      "metadata": {
        "colab": {
          "base_uri": "https://localhost:8080/"
        },
        "id": "HIH3vEB5YI19",
        "outputId": "037fd825-026b-4b41-a6b2-a2bf08b22810"
      },
      "source": [
        "results = model.evaluate(x_val, y_val)\n",
        "results"
      ],
      "execution_count": 29,
      "outputs": [
        {
          "output_type": "stream",
          "text": [
            "313/313 [==============================] - 0s 1ms/step - loss: 0.4324 - accuracy: 0.8032\n"
          ],
          "name": "stdout"
        },
        {
          "output_type": "execute_result",
          "data": {
            "text/plain": [
              "[0.43239668011665344, 0.8032000064849854]"
            ]
          },
          "metadata": {
            "tags": []
          },
          "execution_count": 29
        }
      ]
    },
    {
      "cell_type": "markdown",
      "metadata": {
        "id": "S6cb_4qWqWxv"
      },
      "source": [
        "Our accuracy on the validation data is an impressive 80% (20% of mis-classification error) with only two fully connected layers! Meaning that we correctly classified 80% of the reviews as positive or negative (this is a misclassification error of 20). With additional layers and different types of layers we could improve on this even further."
      ]
    },
    {
      "cell_type": "markdown",
      "metadata": {
        "id": "P6V9VeLjqYrk"
      },
      "source": [
        "### Prediction  \n",
        "\n",
        "Finally we can do prediction. Let us see how well we predict the first 5 reviews in the validation data. \n",
        "\n",
        "**Get probabilities:**"
      ]
    },
    {
      "cell_type": "code",
      "metadata": {
        "colab": {
          "base_uri": "https://localhost:8080/"
        },
        "id": "uqtOZppjYa6N",
        "outputId": "34c40f13-2b85-4bd5-c68c-74988f674661"
      },
      "source": [
        "pred_prob = model.predict(x_val[0:5,])\n",
        "pred_prob"
      ],
      "execution_count": 30,
      "outputs": [
        {
          "output_type": "execute_result",
          "data": {
            "text/plain": [
              "array([[0.4605105 , 0.53948945],\n",
              "       [0.698869  , 0.30113098],\n",
              "       [0.47268614, 0.52731377],\n",
              "       [0.02013831, 0.97986174],\n",
              "       [0.43759486, 0.56240505]], dtype=float32)"
            ]
          },
          "metadata": {
            "tags": []
          },
          "execution_count": 30
        }
      ]
    },
    {
      "cell_type": "markdown",
      "metadata": {
        "id": "1dppujaBqaxX"
      },
      "source": [
        "**Get the labels:**"
      ]
    },
    {
      "cell_type": "code",
      "metadata": {
        "colab": {
          "base_uri": "https://localhost:8080/",
          "height": 259
        },
        "id": "MBrrBjGbYoZ1",
        "outputId": "4a934501-79f5-4fa1-f418-71516a82c375"
      },
      "source": [
        "pred_labels = model.predict_classes(x_val[0:5,])\n",
        "pred_labels\n",
        "\n",
        "pd.DataFrame({'yhat': pred_labels, 'y': y_val[0:5,]})"
      ],
      "execution_count": 31,
      "outputs": [
        {
          "output_type": "stream",
          "text": [
            "/usr/local/lib/python3.7/dist-packages/tensorflow/python/keras/engine/sequential.py:455: UserWarning: `model.predict_classes()` is deprecated and will be removed after 2021-01-01. Please use instead:* `np.argmax(model.predict(x), axis=-1)`,   if your model does multi-class classification   (e.g. if it uses a `softmax` last-layer activation).* `(model.predict(x) > 0.5).astype(\"int32\")`,   if your model does binary classification   (e.g. if it uses a `sigmoid` last-layer activation).\n",
            "  warnings.warn('`model.predict_classes()` is deprecated and '\n"
          ],
          "name": "stderr"
        },
        {
          "output_type": "execute_result",
          "data": {
            "text/html": [
              "<div>\n",
              "<style scoped>\n",
              "    .dataframe tbody tr th:only-of-type {\n",
              "        vertical-align: middle;\n",
              "    }\n",
              "\n",
              "    .dataframe tbody tr th {\n",
              "        vertical-align: top;\n",
              "    }\n",
              "\n",
              "    .dataframe thead th {\n",
              "        text-align: right;\n",
              "    }\n",
              "</style>\n",
              "<table border=\"1\" class=\"dataframe\">\n",
              "  <thead>\n",
              "    <tr style=\"text-align: right;\">\n",
              "      <th></th>\n",
              "      <th>yhat</th>\n",
              "      <th>y</th>\n",
              "    </tr>\n",
              "  </thead>\n",
              "  <tbody>\n",
              "    <tr>\n",
              "      <th>0</th>\n",
              "      <td>1</td>\n",
              "      <td>0</td>\n",
              "    </tr>\n",
              "    <tr>\n",
              "      <th>1</th>\n",
              "      <td>0</td>\n",
              "      <td>0</td>\n",
              "    </tr>\n",
              "    <tr>\n",
              "      <th>2</th>\n",
              "      <td>1</td>\n",
              "      <td>1</td>\n",
              "    </tr>\n",
              "    <tr>\n",
              "      <th>3</th>\n",
              "      <td>1</td>\n",
              "      <td>1</td>\n",
              "    </tr>\n",
              "    <tr>\n",
              "      <th>4</th>\n",
              "      <td>1</td>\n",
              "      <td>1</td>\n",
              "    </tr>\n",
              "  </tbody>\n",
              "</table>\n",
              "</div>"
            ],
            "text/plain": [
              "   yhat  y\n",
              "0     1  0\n",
              "1     0  0\n",
              "2     1  1\n",
              "3     1  1\n",
              "4     1  1"
            ]
          },
          "metadata": {
            "tags": []
          },
          "execution_count": 31
        }
      ]
    },
    {
      "cell_type": "markdown",
      "metadata": {
        "id": "hL91qBaEZpYG"
      },
      "source": [
        "# Summary and Remarks\n",
        "\n",
        "We have introduced Neural network and implemented it using keras. Neural network provides a non-linear model to predict response variables. They can be catagorical or continuous responses. \n",
        "\n",
        "We have run Yelp review case study apply dense layers. Since we have used bag of words to process the data. So the advantage of Neural nets are not seen here. \n",
        "\n",
        "Many open questions re NN models\n",
        "\n",
        "* **How many layers and how deep within each layer?**\n",
        "* **Which activation function to use in each layer?**\n",
        "\n",
        "Often we may adopt existing successful studies\n",
        "\n",
        "* **Apply their architecture**\n",
        "* Often we may input their weights as initial values \n",
        "\n",
        "In the next section we will apply NN's to image recognition case study. The accuracy of prediction is shown much better there. "
      ]
    },
    {
      "cell_type": "markdown",
      "metadata": {
        "id": "5APf5OOsqhkI"
      },
      "source": [
        "# Case 2: Multiclass Classification (MNIST)\n",
        "\n",
        "## Image classification (MNIST)\n",
        "\n",
        "### MNIST Dataset\n",
        "\n",
        "Modified National Institute of Standards and Technology dataset (NNIST) (see details about the data http://yann.lecun.com/exdb/mnist/index.html) is \n",
        "\n",
        "* Collection of handwritten digits, from 0 to 9\n",
        "* 60,000 training and 10,000 testing images\n",
        "* Essentially a multinomial classification problem \n",
        "* Commonly used for training image recognition systems\n",
        "* Useful because relatively 'clean' and well-labeled\n",
        "* Very [well-studied](http://yann.lecun.com/exdb/mnist/index.html)"
      ]
    },
    {
      "cell_type": "markdown",
      "metadata": {
        "id": "AYI5aU_Gqki4"
      },
      "source": [
        "*Objective*: classify handwritten numbers from 0 to 9 correctly\n",
        "\n",
        "The data has been used since 1998 to test the performance of a newly proposed method. As our first image processing case study we will immplement simple NN models below. The purpose is to get the model working. Nevertheless, it shows how powerful/accurate NN models are for image data. We continue to run a more complex, state of the art Convolution Neural Network in a separate lecture to see further error reduction. \n",
        "\n",
        "\n",
        "The data is available with `keras` package and it can be loaded as follows:"
      ]
    },
    {
      "cell_type": "code",
      "metadata": {
        "id": "6OncJkiC1Bwd",
        "colab": {
          "base_uri": "https://localhost:8080/"
        },
        "outputId": "a7ff617d-7783-4a1a-e453-4298364b8b33"
      },
      "source": [
        "mnist = keras.datasets.mnist.load_data(path=\"mnist.npz\")\n",
        "(train_images, train_labels), (test_images, test_labels) = mnist"
      ],
      "execution_count": 32,
      "outputs": [
        {
          "output_type": "stream",
          "text": [
            "Downloading data from https://storage.googleapis.com/tensorflow/tf-keras-datasets/mnist.npz\n",
            "11493376/11490434 [==============================] - 0s 0us/step\n"
          ],
          "name": "stdout"
        }
      ]
    },
    {
      "cell_type": "markdown",
      "metadata": {
        "id": "EDX-Q56bqoC6"
      },
      "source": [
        "Let's take a look at the data structure. The `x` are images of size 28x28 pixels and `y` labels which digits the image actually is."
      ]
    },
    {
      "cell_type": "code",
      "metadata": {
        "colab": {
          "base_uri": "https://localhost:8080/"
        },
        "id": "sZQNToa21olz",
        "outputId": "766286d9-8b7f-472b-fe63-cb410065abb0"
      },
      "source": [
        "v1 = np.shape(train_images)\n",
        "v2 = np.shape(train_labels)\n",
        "\n",
        "v3 = np.unique(train_labels) # 10 Digits\n",
        "v4 = np.bincount(train_labels) # Frequencies (not unbalanced)\n",
        "\n",
        "print(v1, v2, v3, v4, sep='\\n')"
      ],
      "execution_count": 33,
      "outputs": [
        {
          "output_type": "stream",
          "text": [
            "(60000, 28, 28)\n",
            "(60000,)\n",
            "[0 1 2 3 4 5 6 7 8 9]\n",
            "[5923 6742 5958 6131 5842 5421 5918 6265 5851 5949]\n"
          ],
          "name": "stdout"
        }
      ]
    },
    {
      "cell_type": "markdown",
      "metadata": {
        "id": "2fWph5ACqsBd"
      },
      "source": [
        "Let's take a look at some images from the training set. We use imshow() from matplotlib to view the images. "
      ]
    },
    {
      "cell_type": "code",
      "metadata": {
        "colab": {
          "base_uri": "https://localhost:8080/",
          "height": 282
        },
        "id": "qsl-sIGx8OEA",
        "outputId": "d39feae5-3275-42e3-ee28-5328ce907947"
      },
      "source": [
        "# Viewing one image\n",
        "image = Image.fromarray(train_images[1,:,:])\n",
        "plt.imshow(image, cmap='gray')"
      ],
      "execution_count": 34,
      "outputs": [
        {
          "output_type": "execute_result",
          "data": {
            "text/plain": [
              "<matplotlib.image.AxesImage at 0x7f989c419b50>"
            ]
          },
          "metadata": {
            "tags": []
          },
          "execution_count": 34
        },
        {
          "output_type": "display_data",
          "data": {
            "image/png": "[encoded data removed]",
            "text/plain": [
              "<Figure size 432x288 with 1 Axes>"
            ]
          },
          "metadata": {
            "tags": [],
            "needs_background": "light"
          }
        }
      ]
    },
    {
      "cell_type": "code",
      "metadata": {
        "colab": {
          "base_uri": "https://localhost:8080/",
          "height": 530
        },
        "id": "aH1dj2Mn4OQ6",
        "outputId": "652abb89-a8be-40b0-81df-514ef4ce133d"
      },
      "source": [
        "# Show 15 examples of images from the MNIST dataset\n",
        "fig = plt.figure(figsize=(10,10))\n",
        "rows = 3\n",
        "columns = 5\n",
        "index = 0\n",
        "\n",
        "for i in range(0,rows):\n",
        "  for j in range(0,columns):\n",
        "    fig.add_subplot(rows,columns,index+1) # adjust +1 for matplotlib indexing\n",
        "    image = Image.fromarray(train_images[index,:,:])\n",
        "    plt.imshow(image, cmap='gray')\n",
        "    index += 1"
      ],
      "execution_count": 35,
      "outputs": [
        {
          "output_type": "display_data",
          "data": {
            "image/png": "[encoded data removed]",
            "text/plain": [
              "<Figure size 720x720 with 15 Axes>"
            ]
          },
          "metadata": {
            "tags": [],
            "needs_background": "light"
          }
        }
      ]
    },
    {
      "cell_type": "markdown",
      "metadata": {
        "id": "GghlqgKkq_67"
      },
      "source": [
        "### Image vectorization\n",
        "\n",
        "Images are just a matrix of pixels. Usually we use three color channels, red, green and blue. Each pixel is a 3-tuple that indicates how much we want from (red, green, blue) ranging from 0 to 255. For example, (255, 0, 0) represents red and (255, 255, 0) represents yellow. Black and white is represented as (0,0,0) and (255,255,255) respectively. For black and white pictures, there will be only one color channel so each pixel only has one number indicating darkness, which is called greyscale. To summarize,\n",
        "\n",
        "- Images are 2D matrix (black and white)\n",
        "- Values are a representation of color\n",
        "- In this case, a number from 0 to 255 represents darkness\n",
        "- Each image is represented as a 28x28 matrix, with values between 0 and 255 \n",
        "- Translates into $X_1, X_2...X_{784}$ continuous variables\n",
        "- Goal is to predict $Y$, what the digit is, between 0 and 9\n",
        "- Image recognition is transformed to a classification problem\n",
        "- Large dimension problems\n",
        "- For color image, there will be 3 color channels (RGB) and sometimes additionally an alpha channel for opacity. Then images are represented as 3D matrix.\n",
        "\n",
        "We can vectorize the 2D matrix using the function `np.reshape()` as follows:"
      ]
    },
    {
      "cell_type": "code",
      "metadata": {
        "id": "MjYlIYhZ-VnB"
      },
      "source": [
        "# Preprocess dataset format for keras\n",
        "d1, d2, d3 = train_images.shape\n",
        "train_images = train_images.reshape(d1, d2*d3) # Flattens 2D imgs into 1D vector\n",
        "train_images[1,:]\n",
        "train_images = train_images/255 # Make values between 0 and 1\n",
        "np.shape(train_images)\n",
        "\n",
        "d1, d2, d3 = test_images.shape\n",
        "test_images = test_images.reshape(d1, d2*d3)\n",
        "test_images = test_images/255\n",
        "\n",
        "# One-hot encode the labels for keras\n",
        "train_labels = keras.utils.to_categorical(train_labels)\n",
        "test_labels = keras.utils.to_categorical(test_labels)"
      ],
      "execution_count": 36,
      "outputs": []
    },
    {
      "cell_type": "markdown",
      "metadata": {
        "id": "mhBej9aPrFsC"
      },
      "source": [
        "### Multiple outcome classifications\n",
        "\n",
        "It is an easy extension to handle multiple classes from a binary settings. We will use logit function to model the probability of y being in each class j. \n",
        "\n",
        "- $P(y=j|x_1, \\ldots, x_{784}) = \\frac{e^{s_j}}{\\sum_{j=1}^{j=10} e^{s_j}}$\n",
        "- Use plurality rule to get a label $\\hat y = \\arg\\max_{j} {P(y=j)}$\n",
        "- Use entropy to estimate all the weights (unknown parameters)."
      ]
    },
    {
      "cell_type": "markdown",
      "metadata": {
        "id": "I1mF8AgtrHgS"
      },
      "source": [
        "### Fully Connected Neural Network\n",
        "\n",
        "\n",
        "We are now ready to build a NN to first estimate the probability of each input and use polarity vote to get a label. \n",
        "\n",
        "The set up for a multiclass classification neural network is very similar to what we did for binary classification, with a few notable differences. Firstly, each input now has two dimensions (a 28x28 matrix representing the height and width of each image). To save time, the optimal values for the hyper parameters have been identified using the methods described previously. The output unit value is 10 as we have 10 possible label classifications: 0 to 9. \n",
        "\n",
        "\n",
        "The compiler settings are all the same except that for our loss function we use categorical cross entropy rather than binary cross entropy. This is similar to our binary function implementation, except that it allows for multiple classifications.\n",
        "\n",
        "We start a NN model with 1 layer, 512 neurons and activated with `relu` function. The probability of each outcome is obtained via the softmax transformation. "
      ]
    },
    {
      "cell_type": "code",
      "metadata": {
        "colab": {
          "base_uri": "https://localhost:8080/"
        },
        "id": "q7uM4wYmDgVe",
        "outputId": "38089035-9f2f-40ce-b582-eb47c538ed50"
      },
      "source": [
        "# Define & train the model\n",
        "tf.random.set_seed(10) # Set seed for reproduceability\n",
        "\n",
        "model = keras.Sequential(\n",
        "    [\n",
        "     layers.Dense(units = 512, activation=\"relu\", input_shape=(28*28,), name=\"layer1\"),\n",
        "     layers.Dense(units = 10, activation=\"softmax\", name=\"layer2\")\n",
        "    ]\n",
        ")\n",
        "\n",
        "model.compile(\n",
        "    optimizer = \"rmsprop\",\n",
        "    loss = \"categorical_crossentropy\",\n",
        "    metrics = [\"accuracy\"]\n",
        ")\n",
        "\n",
        "mod_fit = model.fit(\n",
        "    x=train_images,\n",
        "    y=train_labels,\n",
        "    epochs=10,\n",
        "    batch_size=128,\n",
        "    validation_split = 0.2\n",
        ")"
      ],
      "execution_count": 37,
      "outputs": [
        {
          "output_type": "stream",
          "text": [
            "Epoch 1/10\n",
            "375/375 [==============================] - 5s 11ms/step - loss: 0.2899 - accuracy: 0.9173 - val_loss: 0.1575 - val_accuracy: 0.9544\n",
            "Epoch 2/10\n",
            "375/375 [==============================] - 4s 11ms/step - loss: 0.1179 - accuracy: 0.9658 - val_loss: 0.1078 - val_accuracy: 0.9678\n",
            "Epoch 3/10\n",
            "375/375 [==============================] - 4s 11ms/step - loss: 0.0765 - accuracy: 0.9775 - val_loss: 0.1186 - val_accuracy: 0.9636\n",
            "Epoch 4/10\n",
            "375/375 [==============================] - 4s 11ms/step - loss: 0.0553 - accuracy: 0.9836 - val_loss: 0.0854 - val_accuracy: 0.9758\n",
            "Epoch 5/10\n",
            "375/375 [==============================] - 4s 11ms/step - loss: 0.0409 - accuracy: 0.9883 - val_loss: 0.0820 - val_accuracy: 0.9759\n",
            "Epoch 6/10\n",
            "375/375 [==============================] - 4s 11ms/step - loss: 0.0306 - accuracy: 0.9910 - val_loss: 0.0865 - val_accuracy: 0.9770\n",
            "Epoch 7/10\n",
            "375/375 [==============================] - 4s 11ms/step - loss: 0.0227 - accuracy: 0.9931 - val_loss: 0.0890 - val_accuracy: 0.9767\n",
            "Epoch 8/10\n",
            "375/375 [==============================] - 4s 11ms/step - loss: 0.0174 - accuracy: 0.9950 - val_loss: 0.0934 - val_accuracy: 0.9773\n",
            "Epoch 9/10\n",
            "375/375 [==============================] - 4s 11ms/step - loss: 0.0138 - accuracy: 0.9960 - val_loss: 0.0811 - val_accuracy: 0.9810\n",
            "Epoch 10/10\n",
            "375/375 [==============================] - 4s 11ms/step - loss: 0.0102 - accuracy: 0.9972 - val_loss: 0.0933 - val_accuracy: 0.9786\n"
          ],
          "name": "stdout"
        }
      ]
    },
    {
      "cell_type": "code",
      "metadata": {
        "colab": {
          "base_uri": "https://localhost:8080/",
          "height": 299
        },
        "id": "dPNLLdwgEDed",
        "outputId": "657c817d-6d81-436b-f808-8aacd4b267ba"
      },
      "source": [
        "# Plot fit\n",
        "# Show loss and accuracy over epoch\n",
        "fig, (ax1, ax2) = plt.subplots(2,1)\n",
        "ax1.plot(mod_fit.history['loss'])\n",
        "ax1.plot(mod_fit.history['val_loss'])\n",
        "ax1.set_xlabel('Epoch')\n",
        "ax1.set_ylabel('loss')\n",
        "\n",
        "ax2.plot(mod_fit.history['accuracy'])\n",
        "ax2.plot(mod_fit.history['val_accuracy'])\n",
        "ax2.set_xlabel('Epoch')\n",
        "ax2.set_ylabel('accuracy')\n",
        "ax2.legend(['Training', 'Testing'], loc='lower right')"
      ],
      "execution_count": 38,
      "outputs": [
        {
          "output_type": "execute_result",
          "data": {
            "text/plain": [
              "<matplotlib.legend.Legend at 0x7f989d99f2d0>"
            ]
          },
          "metadata": {
            "tags": []
          },
          "execution_count": 38
        },
        {
          "output_type": "display_data",
          "data": {
            "image/png": "[encoded data removed]",
            "text/plain": [
              "<Figure size 432x288 with 2 Axes>"
            ]
          },
          "metadata": {
            "tags": [],
            "needs_background": "light"
          }
        }
      ]
    },
    {
      "cell_type": "markdown",
      "metadata": {
        "id": "7qN-v8StrKfW"
      },
      "source": [
        "Lets see how we perform on the test data:"
      ]
    },
    {
      "cell_type": "code",
      "metadata": {
        "colab": {
          "base_uri": "https://localhost:8080/"
        },
        "id": "NJa05jLQHCVd",
        "outputId": "e483a71e-9f77-4ca7-dd02-15cdfcc00f99"
      },
      "source": [
        "results = model.evaluate(test_images, test_labels)\n",
        "results"
      ],
      "execution_count": null,
      "outputs": [
        {
          "output_type": "stream",
          "text": [
            "313/313 [==============================] - 1s 2ms/step - loss: 0.0772 - accuracy: 0.9802\n"
          ],
          "name": "stdout"
        },
        {
          "output_type": "execute_result",
          "data": {
            "text/plain": [
              "[0.0771857425570488, 0.9801999926567078]"
            ]
          },
          "metadata": {
            "tags": []
          },
          "execution_count": 29
        }
      ]
    },
    {
      "cell_type": "markdown",
      "metadata": {
        "id": "sGfaZApKrOEt"
      },
      "source": [
        "Our accuracy is **an amazing 98%!** Meaning that we correctly classified the number images 98% of the time!"
      ]
    },
    {
      "cell_type": "markdown",
      "metadata": {
        "id": "shkiK-9OrVKP"
      },
      "source": [
        "# Conclusion\n",
        "\n",
        "We took a glimpse at neural networks in this lecture. \n",
        "We learned how to model the perception process of human being using neural network. The basic elements of the neural network architecture are neurons and layers. There are lots of tuning parameters and thousands or millions of parameters to estimate. \n",
        "\n",
        "Using the `keras` package, we apply neural network to IMBD and MNIST. Since MNIST is image, we learned how to handle image data. We also did a real prediction using the model we trained."
      ]
    },
    {
      "cell_type": "markdown",
      "metadata": {
        "id": "ylh16IMJQRCy"
      },
      "source": [
        "# Appendix"
      ]
    },
    {
      "cell_type": "markdown",
      "metadata": {
        "id": "v0N2Vo0lQSr0"
      },
      "source": [
        "## Python and Keras for R\n",
        "\n",
        "Since Tensorflow and Keras are dependent on Python to run, to use them in RStudio we first need to install Python and use R interfaces to interact with those libraries. Here's the [link](https://www.anaconda.com/distribution/) to Python Anaconda distribution (version). Anaconda is a package manager and provides a one stop shop to install Python (and R) and some of the most popular libraries for data science. Anaconda Python also optimizes for numerical computation (because it is built against Intel's math kernel library). Note that for Windows users, in order to use Keras v2.2.4, you have to install the Anaconda distribution; otherwise for Mac/Linux users, you can either use Anaconda Python or [Vanilla Python](https://www.python.org/downloads/).\n",
        "\n",
        "To develop neural network models, an R interface to Keras by RStudio is available. Here is an official [installation guide](https://tensorflow.rstudio.com/keras/reference/install_keras.html).\n",
        "\n",
        "For further assistance see: https://keras.rstudio.com/ \n",
        " - Detailed functions can be found in /API\n",
        " - Deep Learning keras cheat sheet: https://www.rstudio.com/resources/cheatsheets/"
      ]
    }
  ]
}